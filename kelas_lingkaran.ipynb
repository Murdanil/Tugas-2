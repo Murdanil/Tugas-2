{
  "nbformat": 4,
  "nbformat_minor": 0,
  "metadata": {
    "colab": {
      "provenance": []
    },
    "kernelspec": {
      "name": "python3",
      "display_name": "Python 3"
    },
    "language_info": {
      "name": "python"
    }
  },
  "cells": [
    {
      "cell_type": "code",
      "execution_count": null,
      "metadata": {
        "id": "tvr10nfRmJYQ"
      },
      "outputs": [],
      "source": [
        "import math\n",
        "\n",
        "class Lingkaran:\n",
        "    def __init__(self, jari_jari):\n",
        "        self.jari_jari = jari_jari\n",
        "\n",
        "    def hitung_luas(self):\n",
        "        return math.pi * self.jari_jari**2\n",
        "\n",
        "    def hitung_keliling(self):\n",
        "        return 2 * math.pi * self.jari_jari\n",
        "\n",
        "lingkaran1 = Lingkaran(5)\n",
        "print(f\"Luas lingkaran: {lingkaran1.hitung_luas()}\")\n",
        "print(f\"Keliling lingkaran: {lingkaran1.hitung_keliling()}\")"
      ]
    }
  ]
}
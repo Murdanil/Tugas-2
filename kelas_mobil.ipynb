{
  "nbformat": 4,
  "nbformat_minor": 0,
  "metadata": {
    "colab": {
      "provenance": []
    },
    "kernelspec": {
      "name": "python3",
      "display_name": "Python 3"
    },
    "language_info": {
      "name": "python"
    }
  },
  "cells": [
    {
      "cell_type": "code",
      "execution_count": null,
      "metadata": {
        "id": "tvr10nfRmJYQ"
      },
      "outputs": [],
      "source": [
        "class Mobil:\n",
        "    def __init__(self, merek, model, tahun):\n",
        "        self.merek = merek\n",
        "        self.model = model\n",
        "        self.tahun = tahun\n",
        "\n",
        "    def info_mobil(self):\n",
        "        print(f\"Merek: {self.merek}\")\n",
        "        print(f\"Model: {self.model}\")\n",
        "        print(f\"Tahun: {self.tahun}\")\n",
        "\n",
        "    def berkendara(self):\n",
        "        print(\"Mobil sedang melaju...\")\n",
        "\n",
        "mobil1 = Mobil(\"Toyota\", \"Avanza\", 2020)\n",
        "mobil1.info_mobil()\n",
        "mobil1.berkendara()"
      ]
    }
  ]
}
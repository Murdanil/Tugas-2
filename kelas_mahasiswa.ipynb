{
  "nbformat": 4,
  "nbformat_minor": 0,
  "metadata": {
    "colab": {
      "provenance": []
    },
    "kernelspec": {
      "name": "python3",
      "display_name": "Python 3"
    },
    "language_info": {
      "name": "python"
    }
  },
  "cells": [
    {
      "cell_type": "code",
      "execution_count": null,
      "metadata": {
        "id": "tvr10nfRmJYQ"
      },
      "outputs": [],
      "source": [
        "class Mahasiswa:\n",
        "    def __init__(self, nama, nim, jurusan):\n",
        "        self.nama = nama\n",
        "        self.nim = nim\n",
        "        self.jurusan = jurusan\n",
        "\n",
        "    def cetak_krs(self, mata_kuliah):\n",
        "        print(f\"KRS {self.nama} ({self.nim}):\")\n",
        "        for mk in mata_kuliah:\n",
        "            print(f\"- {mk}\")\n",
        "\n",
        "mhs1 = Mahasiswa(\"Budi\", \"12345\", \"Teknik Informatika\")\n",
        "mhs1.cetak_krs([\"Pemrograman Python\", \"Basis Data\", \"Matematika Diskrit\"])"
      ]
    }
  ]
}
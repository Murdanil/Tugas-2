{
  "nbformat": 4,
  "nbformat_minor": 0,
  "metadata": {
    "colab": {
      "provenance": []
    },
    "kernelspec": {
      "name": "python3",
      "display_name": "Python 3"
    },
    "language_info": {
      "name": "python"
    }
  },
  "cells": [
    {
      "cell_type": "code",
      "execution_count": null,
      "metadata": {
        "id": "tvr10nfRmJYQ"
      },
      "outputs": [],
      "source": [
        "class PersegiPanjang:\n",
        "    def __init__(self, panjang, lebar):\n",
        "        self.panjang = panjang\n",
        "        self.lebar = lebar\n",
        "\n",
        "    def hitung_luas(self):\n",
        "        return self.panjang * self.lebar\n",
        "\n",
        "    def hitung_keliling(self):\n",
        "        return 2 * (self.panjang + self.lebar)\n",
        "\n",
        "persegi_panjang1 = PersegiPanjang(10, 5)\n",
        "print(f\"Luas persegi panjang: {persegi_panjang1.hitung_luas()}\")\n",
        "print(f\"Keliling persegi panjang: {persegi_panjang1.hitung_keliling()}\")"
      ]
    }
  ]
}